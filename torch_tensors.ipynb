{
  "nbformat": 4,
  "nbformat_minor": 0,
  "metadata": {
    "kernelspec": {
      "display_name": "Python 3",
      "language": "python",
      "name": "python3"
    },
    "language_info": {
      "codemirror_mode": {
        "name": "ipython",
        "version": 3
      },
      "file_extension": ".py",
      "mimetype": "text/x-python",
      "name": "python",
      "nbconvert_exporter": "python",
      "pygments_lexer": "ipython3",
      "version": "3.7.6"
    },
    "colab": {
      "name": "01-tensor-operations.ipynb",
      "provenance": [],
      "include_colab_link": true
    }
  },
  "cells": [
    {
      "cell_type": "markdown",
      "metadata": {
        "id": "view-in-github",
        "colab_type": "text"
      },
      "source": [
        "<a href=\"https://colab.research.google.com/github/dwvicy/zero-to-GANs/blob/master/01_tensor_operations.ipynb\" target=\"_parent\"><img src=\"https://colab.research.google.com/assets/colab-badge.svg\" alt=\"Open In Colab\"/></a>"
      ]
    },
    {
      "cell_type": "markdown",
      "metadata": {
        "id": "-oIN7HIYkMmz",
        "colab_type": "text"
      },
      "source": [
        "# Title Here\n",
        "\n",
        "### Subtitle Here\n",
        "\n",
        "An short introduction about PyTorch and about the chosen functions. \n",
        "- function 1\n",
        "- function 2\n",
        "- function 3\n",
        "- function 4\n",
        "- function 5"
      ]
    },
    {
      "cell_type": "code",
      "metadata": {
        "id": "1fkUZoHykMm1",
        "colab_type": "code",
        "colab": {}
      },
      "source": [
        "# Import torch and other required modules\n",
        "import torch"
      ],
      "execution_count": 0,
      "outputs": []
    },
    {
      "cell_type": "markdown",
      "metadata": {
        "id": "kzwdPt2skMm5",
        "colab_type": "text"
      },
      "source": [
        "## Function 1 - torch.tensor (change this)\n",
        "\n",
        "Add some explanations"
      ]
    },
    {
      "cell_type": "code",
      "metadata": {
        "id": "FgiU7VzzkMm6",
        "colab_type": "code",
        "colab": {},
        "outputId": "d2a207ce-7693-4983-bde9-84f798d75929"
      },
      "source": [
        "# Example 1 - working (change this)\n",
        "torch.tensor([[1, 2], [3, 4.]])"
      ],
      "execution_count": 0,
      "outputs": [
        {
          "output_type": "execute_result",
          "data": {
            "text/plain": [
              "tensor([[1., 2.],\n",
              "        [3., 4.]])"
            ]
          },
          "metadata": {
            "tags": []
          },
          "execution_count": 2
        }
      ]
    },
    {
      "cell_type": "markdown",
      "metadata": {
        "id": "gOIgdwQ5kMm-",
        "colab_type": "text"
      },
      "source": [
        "Explanation about example"
      ]
    },
    {
      "cell_type": "code",
      "metadata": {
        "id": "sZNmCxrokMm-",
        "colab_type": "code",
        "colab": {}
      },
      "source": [
        "# Example 2 - working"
      ],
      "execution_count": 0,
      "outputs": []
    },
    {
      "cell_type": "markdown",
      "metadata": {
        "id": "rrA6xd7EkMnB",
        "colab_type": "text"
      },
      "source": [
        "Explanation about example"
      ]
    },
    {
      "cell_type": "code",
      "metadata": {
        "id": "ert1t1A4kMnB",
        "colab_type": "code",
        "colab": {},
        "outputId": "7b513b25-4c5a-45fd-d637-bf4b3285eca4"
      },
      "source": [
        "# Example 3 - breaking (to illustrate when it breaks)\n",
        "torch.tensor([[1, 2], [3, 4, 5]])"
      ],
      "execution_count": 0,
      "outputs": [
        {
          "output_type": "error",
          "ename": "ValueError",
          "evalue": "expected sequence of length 2 at dim 1 (got 3)",
          "traceback": [
            "\u001b[0;31m---------------------------------------------------------------------------\u001b[0m",
            "\u001b[0;31mValueError\u001b[0m                                Traceback (most recent call last)",
            "\u001b[0;32m<ipython-input-4-28787d136593>\u001b[0m in \u001b[0;36m<module>\u001b[0;34m\u001b[0m\n\u001b[1;32m      1\u001b[0m \u001b[0;31m# Example 3 - breaking (to illustrate when it breaks)\u001b[0m\u001b[0;34m\u001b[0m\u001b[0;34m\u001b[0m\u001b[0;34m\u001b[0m\u001b[0m\n\u001b[0;32m----> 2\u001b[0;31m \u001b[0mtorch\u001b[0m\u001b[0;34m.\u001b[0m\u001b[0mtensor\u001b[0m\u001b[0;34m(\u001b[0m\u001b[0;34m[\u001b[0m\u001b[0;34m[\u001b[0m\u001b[0;36m1\u001b[0m\u001b[0;34m,\u001b[0m \u001b[0;36m2\u001b[0m\u001b[0;34m]\u001b[0m\u001b[0;34m,\u001b[0m \u001b[0;34m[\u001b[0m\u001b[0;36m3\u001b[0m\u001b[0;34m,\u001b[0m \u001b[0;36m4\u001b[0m\u001b[0;34m,\u001b[0m \u001b[0;36m5\u001b[0m\u001b[0;34m]\u001b[0m\u001b[0;34m]\u001b[0m\u001b[0;34m)\u001b[0m\u001b[0;34m\u001b[0m\u001b[0;34m\u001b[0m\u001b[0m\n\u001b[0m",
            "\u001b[0;31mValueError\u001b[0m: expected sequence of length 2 at dim 1 (got 3)"
          ]
        }
      ]
    },
    {
      "cell_type": "markdown",
      "metadata": {
        "id": "xzil-vkfkMnE",
        "colab_type": "text"
      },
      "source": [
        "Explanation about example"
      ]
    },
    {
      "cell_type": "markdown",
      "metadata": {
        "id": "8UVvn80gkMnF",
        "colab_type": "text"
      },
      "source": [
        "Closing comments about when to use this function"
      ]
    },
    {
      "cell_type": "markdown",
      "metadata": {
        "id": "YmNXi9n7kMnF",
        "colab_type": "text"
      },
      "source": [
        "## Function 2 - ???\n",
        "\n",
        "Add some explanations"
      ]
    },
    {
      "cell_type": "code",
      "metadata": {
        "id": "3aKeHCddkMnG",
        "colab_type": "code",
        "colab": {}
      },
      "source": [
        "# Example 1 - working"
      ],
      "execution_count": 0,
      "outputs": []
    },
    {
      "cell_type": "markdown",
      "metadata": {
        "id": "dQLFLW4UkMnI",
        "colab_type": "text"
      },
      "source": [
        "Explanation about example"
      ]
    },
    {
      "cell_type": "code",
      "metadata": {
        "id": "-8kPD8P4kMnI",
        "colab_type": "code",
        "colab": {}
      },
      "source": [
        "# Example 2 - working"
      ],
      "execution_count": 0,
      "outputs": []
    },
    {
      "cell_type": "markdown",
      "metadata": {
        "id": "HKJW9ZL1kMnM",
        "colab_type": "text"
      },
      "source": [
        "Explanation about example"
      ]
    },
    {
      "cell_type": "code",
      "metadata": {
        "id": "-6myiqSjkMnM",
        "colab_type": "code",
        "colab": {}
      },
      "source": [
        "# Example 3 - breaking (to illustrate when it breaks)"
      ],
      "execution_count": 0,
      "outputs": []
    },
    {
      "cell_type": "markdown",
      "metadata": {
        "id": "yFtqyAELkMnO",
        "colab_type": "text"
      },
      "source": [
        "Explanation about example"
      ]
    },
    {
      "cell_type": "markdown",
      "metadata": {
        "id": "BrguhklQkMnP",
        "colab_type": "text"
      },
      "source": [
        "Closing comments about when to use this function"
      ]
    },
    {
      "cell_type": "markdown",
      "metadata": {
        "id": "yVUeoDfnkMnP",
        "colab_type": "text"
      },
      "source": [
        "## Function 3 - ???\n",
        "\n",
        "Add some explanations"
      ]
    },
    {
      "cell_type": "code",
      "metadata": {
        "id": "-98XNAf6kMnQ",
        "colab_type": "code",
        "colab": {}
      },
      "source": [
        "# Example 1 - working"
      ],
      "execution_count": 0,
      "outputs": []
    },
    {
      "cell_type": "markdown",
      "metadata": {
        "id": "Wkk4eTvrkMnS",
        "colab_type": "text"
      },
      "source": [
        "Explanation about example"
      ]
    },
    {
      "cell_type": "code",
      "metadata": {
        "id": "iUPXEKklkMnS",
        "colab_type": "code",
        "colab": {}
      },
      "source": [
        "# Example 2 - working"
      ],
      "execution_count": 0,
      "outputs": []
    },
    {
      "cell_type": "markdown",
      "metadata": {
        "id": "zoCsRumrkMnV",
        "colab_type": "text"
      },
      "source": [
        "Explanation about example"
      ]
    },
    {
      "cell_type": "code",
      "metadata": {
        "id": "VASjaM4vkMnV",
        "colab_type": "code",
        "colab": {}
      },
      "source": [
        "# Example 3 - breaking (to illustrate when it breaks)"
      ],
      "execution_count": 0,
      "outputs": []
    },
    {
      "cell_type": "markdown",
      "metadata": {
        "id": "2Izu6lOFkMnX",
        "colab_type": "text"
      },
      "source": [
        "Explanation about example"
      ]
    },
    {
      "cell_type": "markdown",
      "metadata": {
        "id": "rOOqejCPkMnY",
        "colab_type": "text"
      },
      "source": [
        "Closing comments about when to use this function"
      ]
    },
    {
      "cell_type": "markdown",
      "metadata": {
        "id": "OCfeAbgwkMnY",
        "colab_type": "text"
      },
      "source": [
        "## Function 4 - ???\n",
        "\n",
        "Add some explanations"
      ]
    },
    {
      "cell_type": "code",
      "metadata": {
        "id": "q3e6MO3DkMnZ",
        "colab_type": "code",
        "colab": {}
      },
      "source": [
        "# Example 1 - working"
      ],
      "execution_count": 0,
      "outputs": []
    },
    {
      "cell_type": "markdown",
      "metadata": {
        "id": "YMBX2uP7kMnb",
        "colab_type": "text"
      },
      "source": [
        "Explanation about example"
      ]
    },
    {
      "cell_type": "code",
      "metadata": {
        "id": "KjWPrkr1kMnc",
        "colab_type": "code",
        "colab": {}
      },
      "source": [
        "# Example 2 - working"
      ],
      "execution_count": 0,
      "outputs": []
    },
    {
      "cell_type": "markdown",
      "metadata": {
        "id": "imcIn24kkMnf",
        "colab_type": "text"
      },
      "source": [
        "Explanation about example"
      ]
    },
    {
      "cell_type": "code",
      "metadata": {
        "id": "xxsuONfZkMng",
        "colab_type": "code",
        "colab": {}
      },
      "source": [
        "# Example 3 - breaking (to illustrate when it breaks)"
      ],
      "execution_count": 0,
      "outputs": []
    },
    {
      "cell_type": "markdown",
      "metadata": {
        "id": "Ne4TgjLOkMni",
        "colab_type": "text"
      },
      "source": [
        "Explanation about example"
      ]
    },
    {
      "cell_type": "markdown",
      "metadata": {
        "id": "95R1ztoDkMnj",
        "colab_type": "text"
      },
      "source": [
        "Closing comments about when to use this function"
      ]
    },
    {
      "cell_type": "markdown",
      "metadata": {
        "id": "uDRXC_6vkMnj",
        "colab_type": "text"
      },
      "source": [
        "## Function 5 - ???\n",
        "\n",
        "Add some explanations"
      ]
    },
    {
      "cell_type": "code",
      "metadata": {
        "id": "a2JSOFZZkMnj",
        "colab_type": "code",
        "colab": {}
      },
      "source": [
        "# Example 1 - working"
      ],
      "execution_count": 0,
      "outputs": []
    },
    {
      "cell_type": "markdown",
      "metadata": {
        "id": "CvY1ZiO9kMnl",
        "colab_type": "text"
      },
      "source": [
        "Explanation about example"
      ]
    },
    {
      "cell_type": "code",
      "metadata": {
        "id": "w7GhpftfkMnm",
        "colab_type": "code",
        "colab": {}
      },
      "source": [
        "# Example 2 - working"
      ],
      "execution_count": 0,
      "outputs": []
    },
    {
      "cell_type": "markdown",
      "metadata": {
        "id": "mIwp7dnjkMno",
        "colab_type": "text"
      },
      "source": [
        "Explanation about example"
      ]
    },
    {
      "cell_type": "code",
      "metadata": {
        "id": "-4FtCDBtkMno",
        "colab_type": "code",
        "colab": {}
      },
      "source": [
        "# Example 3 - breaking (to illustrate when it breaks)"
      ],
      "execution_count": 0,
      "outputs": []
    },
    {
      "cell_type": "markdown",
      "metadata": {
        "id": "IakUOEvmkMnq",
        "colab_type": "text"
      },
      "source": [
        "Explanation about example"
      ]
    },
    {
      "cell_type": "markdown",
      "metadata": {
        "id": "7wjAtDY9kMnr",
        "colab_type": "text"
      },
      "source": [
        "Closing comments about when to use this function"
      ]
    },
    {
      "cell_type": "markdown",
      "metadata": {
        "id": "9Bnmp5YhkMnr",
        "colab_type": "text"
      },
      "source": [
        "## Conclusion\n",
        "\n",
        "Summarize what was covered in this notebook, and where to go next"
      ]
    },
    {
      "cell_type": "markdown",
      "metadata": {
        "id": "tFXL4zzekMns",
        "colab_type": "text"
      },
      "source": [
        "## Reference Links\n",
        "Provide links to your references and other interesting articles about tensors\n",
        "* Official documentation for `torch.Tensor`: https://pytorch.org/docs/stable/tensors.html\n",
        "* ..."
      ]
    },
    {
      "cell_type": "code",
      "metadata": {
        "id": "iXGM6p8LkMns",
        "colab_type": "code",
        "colab": {}
      },
      "source": [
        "!pip install jovian --upgrade --quiet"
      ],
      "execution_count": 0,
      "outputs": []
    },
    {
      "cell_type": "code",
      "metadata": {
        "id": "PHpuJp5ikMnu",
        "colab_type": "code",
        "colab": {}
      },
      "source": [
        "import jovian"
      ],
      "execution_count": 0,
      "outputs": []
    },
    {
      "cell_type": "code",
      "metadata": {
        "id": "cmdU22fCkMnw",
        "colab_type": "code",
        "colab": {},
        "outputId": "45cdfc7e-08fd-41f9-bdfb-5cce6a7900de"
      },
      "source": [
        "jovian.commit()"
      ],
      "execution_count": 0,
      "outputs": [
        {
          "output_type": "display_data",
          "data": {
            "application/javascript": [
              "window.require && require([\"base/js/namespace\"],function(Jupyter){Jupyter.notebook.save_checkpoint()})"
            ],
            "text/plain": [
              "<IPython.core.display.Javascript object>"
            ]
          },
          "metadata": {
            "tags": []
          }
        },
        {
          "output_type": "stream",
          "text": [
            "[jovian] Attempting to save notebook..\u001b[0m\n"
          ],
          "name": "stdout"
        }
      ]
    },
    {
      "cell_type": "code",
      "metadata": {
        "id": "fXgDAK41kMnz",
        "colab_type": "code",
        "colab": {}
      },
      "source": [
        ""
      ],
      "execution_count": 0,
      "outputs": []
    }
  ]
}
