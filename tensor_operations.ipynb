{
  "nbformat": 4,
  "nbformat_minor": 0,
  "metadata": {
    "kernelspec": {
      "display_name": "Python 3",
      "language": "python",
      "name": "python3"
    },
    "language_info": {
      "codemirror_mode": {
        "name": "ipython",
        "version": 3
      },
      "file_extension": ".py",
      "mimetype": "text/x-python",
      "name": "python",
      "nbconvert_exporter": "python",
      "pygments_lexer": "ipython3",
      "version": "3.7.6"
    },
    "colab": {
      "name": "Copy of 01-tensor-operations.ipynb",
      "provenance": [],
      "include_colab_link": true
    }
  },
  "cells": [
    {
      "cell_type": "markdown",
      "metadata": {
        "id": "view-in-github",
        "colab_type": "text"
      },
      "source": [
        "<a href=\"https://colab.research.google.com/github/dwvicy/zero-to-GANs/blob/master/tensor_operations.ipynb\" target=\"_parent\"><img src=\"https://colab.research.google.com/assets/colab-badge.svg\" alt=\"Open In Colab\"/></a>"
      ]
    },
    {
      "cell_type": "markdown",
      "metadata": {
        "id": "-oIN7HIYkMmz",
        "colab_type": "text"
      },
      "source": [
        "# Essential mathematical functions in Pytorch\n",
        "\n",
        "### Implementing  essential Mathematical Operations in PyTorch (with examples)\n",
        "\n",
        "\n",
        "What is PyTorch really?\n",
        "\n",
        "1.   Open-source scientific computing library based in python used as a replacement for NumPy.\n",
        "2.   Used extensively for research purposes.\n",
        "\n",
        "What are Tensors?\n",
        "\n",
        "Tensors are the basic data structures of PyTorch. They are multi-dimensional arrays with a uniform data type. They are just like numpy ndarrays and can be used on a GPU to accelerate computing.\n",
        "\n",
        "We would discuss five interesting functions in the torch library used to implement the heavy mathematics behind our deep learning models.\n",
        "\n",
        "- torch.floor() - to obtain a tensor with floor of elements in the input tensor. (where floor is the largest integer, less than or equal to each element)\n",
        "- torch.mean() - computes the mean of all element in the input tensor\n",
        "- torch.sigmoid() - computes the sigmoid of each element in the input tensor\n",
        "- torch.exp() -  computes the exponential of the elements in the input tensor\n",
        "- torch.reshape() - Reshapes the input tensor into the desired shape as specified in the arguments"
      ]
    },
    {
      "cell_type": "code",
      "metadata": {
        "id": "1fkUZoHykMm1",
        "colab_type": "code",
        "colab": {}
      },
      "source": [
        "# Import torch and other required modules\n",
        "import torch"
      ],
      "execution_count": 0,
      "outputs": []
    },
    {
      "cell_type": "markdown",
      "metadata": {
        "id": "kzwdPt2skMm5",
        "colab_type": "text"
      },
      "source": [
        "## Function 1 - torch.floor() \n",
        "\n",
        "Used to obtain a tensor with floor of elements in the input tensor. (where floor is the largest integer, less than or equal to each element)\n"
      ]
    },
    {
      "cell_type": "code",
      "metadata": {
        "id": "FgiU7VzzkMm6",
        "colab_type": "code",
        "outputId": "2006cf4c-f81e-4bde-ec00-e41b60489d84",
        "colab": {
          "base_uri": "https://localhost:8080/",
          "height": 35
        }
      },
      "source": [
        "# Example 1 - Using the tensor.floor() on a given input tensor\n",
        "t = torch.tensor([3.4, 8.8, 7.6, 5.4])\n",
        "torch.floor(t)"
      ],
      "execution_count": 0,
      "outputs": [
        {
          "output_type": "execute_result",
          "data": {
            "text/plain": [
              "tensor([3., 8., 7., 5.])"
            ]
          },
          "metadata": {
            "tags": []
          },
          "execution_count": 3
        }
      ]
    },
    {
      "cell_type": "markdown",
      "metadata": {
        "id": "gOIgdwQ5kMm-",
        "colab_type": "text"
      },
      "source": [
        "After running the cell you will observe that you get a tensor with integer values as output. If you apply the torch.floor() function to any input tensor containing decimal values, it will remove the decimal part and use the integer part. "
      ]
    },
    {
      "cell_type": "code",
      "metadata": {
        "id": "sZNmCxrokMm-",
        "colab_type": "code",
        "outputId": "d61eeb65-fe6b-468f-aea3-b0e7445d91bd",
        "colab": {
          "base_uri": "https://localhost:8080/",
          "height": 53
        }
      },
      "source": [
        "# Example 2 - Using the tensor.floor() function on a randomly generated function\n",
        "t1 = torch.rand(2,3) # generates a tensor of shape (2,3) with random values between 0 and 1\n",
        "torch.floor(t1)"
      ],
      "execution_count": 0,
      "outputs": [
        {
          "output_type": "execute_result",
          "data": {
            "text/plain": [
              "tensor([[0., 0., 0.],\n",
              "        [0., 0., 0.]])"
            ]
          },
          "metadata": {
            "tags": []
          },
          "execution_count": 4
        }
      ]
    },
    {
      "cell_type": "markdown",
      "metadata": {
        "id": "rrA6xd7EkMnB",
        "colab_type": "text"
      },
      "source": [
        "In this example, we used the torch.rand() function to generate a tensor with random values between 0 and 1. When you run the cell you'll see that the value of all the elements is 0. This is because the randomly generated tensor has values between 0 and 1, hence the integer part is 0 in all cases."
      ]
    },
    {
      "cell_type": "code",
      "metadata": {
        "id": "ert1t1A4kMnB",
        "colab_type": "code",
        "outputId": "4be8dc8f-6de9-48c4-af52-7a7ac987762b",
        "colab": {
          "base_uri": "https://localhost:8080/",
          "height": 208
        }
      },
      "source": [
        "# Example 3 -  Using tensor.floor() function on integers\n",
        "t2 = torch.LongTensor([0.8, 21.8])\n",
        "torch.floor(t2)"
      ],
      "execution_count": 0,
      "outputs": [
        {
          "output_type": "error",
          "ename": "RuntimeError",
          "evalue": "ignored",
          "traceback": [
            "\u001b[0;31m---------------------------------------------------------------------------\u001b[0m",
            "\u001b[0;31mRuntimeError\u001b[0m                              Traceback (most recent call last)",
            "\u001b[0;32m<ipython-input-5-366942b70433>\u001b[0m in \u001b[0;36m<module>\u001b[0;34m()\u001b[0m\n\u001b[1;32m      1\u001b[0m \u001b[0;31m# Example 3 -  Using tensor.floor() function on integers\u001b[0m\u001b[0;34m\u001b[0m\u001b[0;34m\u001b[0m\u001b[0;34m\u001b[0m\u001b[0m\n\u001b[1;32m      2\u001b[0m \u001b[0mt2\u001b[0m \u001b[0;34m=\u001b[0m \u001b[0mtorch\u001b[0m\u001b[0;34m.\u001b[0m\u001b[0mLongTensor\u001b[0m\u001b[0;34m(\u001b[0m\u001b[0;34m[\u001b[0m\u001b[0;36m0.8\u001b[0m\u001b[0;34m,\u001b[0m \u001b[0;36m21.8\u001b[0m\u001b[0;34m]\u001b[0m\u001b[0;34m)\u001b[0m\u001b[0;34m\u001b[0m\u001b[0;34m\u001b[0m\u001b[0m\n\u001b[0;32m----> 3\u001b[0;31m \u001b[0mtorch\u001b[0m\u001b[0;34m.\u001b[0m\u001b[0mfloor\u001b[0m\u001b[0;34m(\u001b[0m\u001b[0mt2\u001b[0m\u001b[0;34m)\u001b[0m\u001b[0;34m\u001b[0m\u001b[0;34m\u001b[0m\u001b[0m\n\u001b[0m",
            "\u001b[0;31mRuntimeError\u001b[0m: floor_vml_cpu not implemented for 'Long'"
          ]
        }
      ]
    },
    {
      "cell_type": "markdown",
      "metadata": {
        "id": "xzil-vkfkMnE",
        "colab_type": "text"
      },
      "source": [
        "Here the floor function isn't working as the tensor is a Long Tensor which has a dtype of 64-bit integer (signed). As this operation is a not implemented for Long Tensor type, it breaks. You can learn more about the nine different types of CPU and GPU tensors over [here.](https://pytorch.org/docs/stable/tensors.html)"
      ]
    },
    {
      "cell_type": "markdown",
      "metadata": {
        "id": "8UVvn80gkMnF",
        "colab_type": "text"
      },
      "source": [
        "You can use this function when you want to obtain element wise floor of a tensor. This function is widely used in deep learning models and can also be used for vectorization. "
      ]
    },
    {
      "cell_type": "markdown",
      "metadata": {
        "id": "YmNXi9n7kMnF",
        "colab_type": "text"
      },
      "source": [
        "## Function 2 - torch.mean()\n",
        "\n",
        "Returns the mean of all elements of the input tensor\n"
      ]
    },
    {
      "cell_type": "code",
      "metadata": {
        "id": "3aKeHCddkMnG",
        "colab_type": "code",
        "outputId": "aff561d4-3fd5-47a1-d729-0bcc4ef82fc2",
        "colab": {
          "base_uri": "https://localhost:8080/",
          "height": 35
        }
      },
      "source": [
        "# Example 1 - working\n",
        "t3 = torch.rand(5,5)\n",
        "torch.mean(t3)"
      ],
      "execution_count": 0,
      "outputs": [
        {
          "output_type": "execute_result",
          "data": {
            "text/plain": [
              "tensor(0.5586)"
            ]
          },
          "metadata": {
            "tags": []
          },
          "execution_count": 6
        }
      ]
    },
    {
      "cell_type": "markdown",
      "metadata": {
        "id": "dQLFLW4UkMnI",
        "colab_type": "text"
      },
      "source": [
        "When we generate a random tensor with elements of values between 0 and 1, the mean of the tensor is returned when we used the torch.mean() function"
      ]
    },
    {
      "cell_type": "code",
      "metadata": {
        "id": "-8kPD8P4kMnI",
        "colab_type": "code",
        "outputId": "1d33fcca-1a35-4233-a08a-8f6aa67af014",
        "colab": {
          "base_uri": "https://localhost:8080/",
          "height": 53
        }
      },
      "source": [
        "# Example 2 - working\n",
        "\n",
        "t4 = torch.empty(2,3)\n",
        "t4.random_(0,230)\n"
      ],
      "execution_count": 0,
      "outputs": [
        {
          "output_type": "execute_result",
          "data": {
            "text/plain": [
              "tensor([[183., 198.,  85.],\n",
              "        [130.,  77., 202.]])"
            ]
          },
          "metadata": {
            "tags": []
          },
          "execution_count": 7
        }
      ]
    },
    {
      "cell_type": "code",
      "metadata": {
        "id": "CCOpRRCyU47X",
        "colab_type": "code",
        "outputId": "981e2b7a-b990-45de-9b11-d9a8271247ff",
        "colab": {
          "base_uri": "https://localhost:8080/",
          "height": 35
        }
      },
      "source": [
        "torch.mean(t4)"
      ],
      "execution_count": 0,
      "outputs": [
        {
          "output_type": "execute_result",
          "data": {
            "text/plain": [
              "tensor(145.8333)"
            ]
          },
          "metadata": {
            "tags": []
          },
          "execution_count": 8
        }
      ]
    },
    {
      "cell_type": "markdown",
      "metadata": {
        "id": "HKJW9ZL1kMnM",
        "colab_type": "text"
      },
      "source": [
        "Here we initialize as empty tensor and then generate random values in the empty tensor with values between 0 to 230. We can compute the mean as shown."
      ]
    },
    {
      "cell_type": "code",
      "metadata": {
        "id": "-6myiqSjkMnM",
        "colab_type": "code",
        "outputId": "2f5b0342-edea-4487-c9ca-8f88fd2ffdd0",
        "colab": {
          "base_uri": "https://localhost:8080/",
          "height": 71
        }
      },
      "source": [
        "# Example 3 - breaking (to illustrate when it breaks)\n",
        "t5 = torch.empty((3,5), dtype=int)\n",
        "t5.random_(0,230)"
      ],
      "execution_count": 0,
      "outputs": [
        {
          "output_type": "execute_result",
          "data": {
            "text/plain": [
              "tensor([[102, 200,   7, 162,  46],\n",
              "        [ 72, 193,  12, 147, 192],\n",
              "        [ 71, 168, 154, 143,  64]])"
            ]
          },
          "metadata": {
            "tags": []
          },
          "execution_count": 9
        }
      ]
    },
    {
      "cell_type": "code",
      "metadata": {
        "id": "wqxLKrF-U9JU",
        "colab_type": "code",
        "outputId": "b7cc6a78-1040-47b4-a649-a85cbec7da57",
        "colab": {
          "base_uri": "https://localhost:8080/",
          "height": 172
        }
      },
      "source": [
        "torch.mean(t5)"
      ],
      "execution_count": 0,
      "outputs": [
        {
          "output_type": "error",
          "ename": "RuntimeError",
          "evalue": "ignored",
          "traceback": [
            "\u001b[0;31m---------------------------------------------------------------------------\u001b[0m",
            "\u001b[0;31mRuntimeError\u001b[0m                              Traceback (most recent call last)",
            "\u001b[0;32m<ipython-input-10-d99093451f87>\u001b[0m in \u001b[0;36m<module>\u001b[0;34m()\u001b[0m\n\u001b[0;32m----> 1\u001b[0;31m \u001b[0mtorch\u001b[0m\u001b[0;34m.\u001b[0m\u001b[0mmean\u001b[0m\u001b[0;34m(\u001b[0m\u001b[0mt5\u001b[0m\u001b[0;34m)\u001b[0m\u001b[0;34m\u001b[0m\u001b[0;34m\u001b[0m\u001b[0m\n\u001b[0m",
            "\u001b[0;31mRuntimeError\u001b[0m: Can only calculate the mean of floating types. Got Long instead."
          ]
        }
      ]
    },
    {
      "cell_type": "code",
      "metadata": {
        "id": "iEHy_uRuAZtB",
        "colab_type": "code",
        "colab": {}
      },
      "source": [
        ""
      ],
      "execution_count": 0,
      "outputs": []
    },
    {
      "cell_type": "markdown",
      "metadata": {
        "id": "BrguhklQkMnP",
        "colab_type": "text"
      },
      "source": [
        "This function can be used to calculate the mean of the tensor."
      ]
    },
    {
      "cell_type": "markdown",
      "metadata": {
        "id": "yVUeoDfnkMnP",
        "colab_type": "text"
      },
      "source": [
        "## Function 3 - torch.sigmoid()\n",
        "\n",
        "Returns a tensor with sigmoid of all elements in the input matrix"
      ]
    },
    {
      "cell_type": "code",
      "metadata": {
        "id": "-98XNAf6kMnQ",
        "colab_type": "code",
        "outputId": "de2d57c6-ec4b-4e60-8270-6ca08aa89f01",
        "colab": {
          "base_uri": "https://localhost:8080/",
          "height": 107
        }
      },
      "source": [
        "# Example 1 - working\n",
        "t3 = torch.rand(5,5)\n",
        "torch.sigmoid(t3)"
      ],
      "execution_count": 0,
      "outputs": [
        {
          "output_type": "execute_result",
          "data": {
            "text/plain": [
              "tensor([[0.5960, 0.5624, 0.6087, 0.6568, 0.6357],\n",
              "        [0.5981, 0.7286, 0.7047, 0.7004, 0.7307],\n",
              "        [0.6571, 0.5543, 0.5802, 0.7221, 0.5150],\n",
              "        [0.5456, 0.5503, 0.6641, 0.6632, 0.5807],\n",
              "        [0.5357, 0.7300, 0.7292, 0.5872, 0.6187]])"
            ]
          },
          "metadata": {
            "tags": []
          },
          "execution_count": 11
        }
      ]
    },
    {
      "cell_type": "code",
      "metadata": {
        "id": "iUPXEKklkMnS",
        "colab_type": "code",
        "outputId": "6419a771-2ea1-4443-973c-8dea0e881c49",
        "colab": {
          "base_uri": "https://localhost:8080/",
          "height": 107
        }
      },
      "source": [
        "# Example 2 - working\n",
        "t4 = torch.randn(5,5)\n",
        "t4\n"
      ],
      "execution_count": 0,
      "outputs": [
        {
          "output_type": "execute_result",
          "data": {
            "text/plain": [
              "tensor([[ 0.3875,  0.7180,  1.9219,  0.6843, -1.1857],\n",
              "        [ 1.1380,  1.3209,  0.4670,  1.1130,  0.3986],\n",
              "        [-0.4034, -0.4874, -0.1893, -0.0123,  0.9571],\n",
              "        [-1.4511, -0.1595, -0.9897,  0.0215,  1.8938],\n",
              "        [-0.6958, -0.0243,  0.3164,  0.1206, -0.6863]])"
            ]
          },
          "metadata": {
            "tags": []
          },
          "execution_count": 16
        }
      ]
    },
    {
      "cell_type": "code",
      "metadata": {
        "id": "tTa7wBmyG6vn",
        "colab_type": "code",
        "outputId": "8d6ea183-9665-4200-c6d3-0af1f337f75f",
        "colab": {
          "base_uri": "https://localhost:8080/",
          "height": 107
        }
      },
      "source": [
        "torch.sigmoid(t4)"
      ],
      "execution_count": 0,
      "outputs": [
        {
          "output_type": "execute_result",
          "data": {
            "text/plain": [
              "tensor([[0.5957, 0.6722, 0.8724, 0.6647, 0.2340],\n",
              "        [0.7573, 0.7893, 0.6147, 0.7527, 0.5984],\n",
              "        [0.4005, 0.3805, 0.4528, 0.4969, 0.7225],\n",
              "        [0.1898, 0.4602, 0.2710, 0.5054, 0.8692],\n",
              "        [0.3327, 0.4939, 0.5784, 0.5301, 0.3349]])"
            ]
          },
          "metadata": {
            "tags": []
          },
          "execution_count": 17
        }
      ]
    },
    {
      "cell_type": "code",
      "metadata": {
        "id": "VASjaM4vkMnV",
        "colab_type": "code",
        "outputId": "4ffae180-01bb-4ac7-8d9d-24ae768753bd",
        "colab": {
          "base_uri": "https://localhost:8080/",
          "height": 208
        }
      },
      "source": [
        "# Example 3 - breaking (to illustrate when it breaks)\n",
        "\n",
        "tt1 = torch.tensor([9, 8])\n",
        "print(torch.sigmoid(tt1))"
      ],
      "execution_count": 0,
      "outputs": [
        {
          "output_type": "error",
          "ename": "RuntimeError",
          "evalue": "ignored",
          "traceback": [
            "\u001b[0;31m---------------------------------------------------------------------------\u001b[0m",
            "\u001b[0;31mRuntimeError\u001b[0m                              Traceback (most recent call last)",
            "\u001b[0;32m<ipython-input-23-4f4861c90a98>\u001b[0m in \u001b[0;36m<module>\u001b[0;34m()\u001b[0m\n\u001b[1;32m      2\u001b[0m \u001b[0;34m\u001b[0m\u001b[0m\n\u001b[1;32m      3\u001b[0m \u001b[0mtt1\u001b[0m \u001b[0;34m=\u001b[0m \u001b[0mtorch\u001b[0m\u001b[0;34m.\u001b[0m\u001b[0mtensor\u001b[0m\u001b[0;34m(\u001b[0m\u001b[0;34m[\u001b[0m\u001b[0;36m9\u001b[0m\u001b[0;34m,\u001b[0m \u001b[0;36m8\u001b[0m\u001b[0;34m]\u001b[0m\u001b[0;34m)\u001b[0m\u001b[0;34m\u001b[0m\u001b[0;34m\u001b[0m\u001b[0m\n\u001b[0;32m----> 4\u001b[0;31m \u001b[0mprint\u001b[0m\u001b[0;34m(\u001b[0m\u001b[0mtorch\u001b[0m\u001b[0;34m.\u001b[0m\u001b[0msigmoid\u001b[0m\u001b[0;34m(\u001b[0m\u001b[0mtt1\u001b[0m\u001b[0;34m)\u001b[0m\u001b[0;34m)\u001b[0m\u001b[0;34m\u001b[0m\u001b[0;34m\u001b[0m\u001b[0m\n\u001b[0m",
            "\u001b[0;31mRuntimeError\u001b[0m: \"sigmoid_cpu\" not implemented for 'Long'"
          ]
        }
      ]
    },
    {
      "cell_type": "markdown",
      "metadata": {
        "id": "2Izu6lOFkMnX",
        "colab_type": "text"
      },
      "source": [
        "sigmoid function is not implemented for the Long data type integer"
      ]
    },
    {
      "cell_type": "markdown",
      "metadata": {
        "id": "OCfeAbgwkMnY",
        "colab_type": "text"
      },
      "source": [
        "## Function 4 - torch.exp()\n",
        "\n",
        "Returns a tensor with exponential of every element in the input tensor"
      ]
    },
    {
      "cell_type": "code",
      "metadata": {
        "id": "q3e6MO3DkMnZ",
        "colab_type": "code",
        "outputId": "871cb102-ec97-498b-b974-4f8d239dd74a",
        "colab": {
          "base_uri": "https://localhost:8080/",
          "height": 107
        }
      },
      "source": [
        "# Example 1 -  working\n",
        "t = torch.rand(5,4)\n",
        "torch.exp(t)"
      ],
      "execution_count": 0,
      "outputs": [
        {
          "output_type": "execute_result",
          "data": {
            "text/plain": [
              "tensor([[1.0268, 1.1486, 2.2025, 2.6137],\n",
              "        [1.1103, 2.4679, 2.3305, 2.5569],\n",
              "        [1.3067, 1.3752, 1.8610, 1.7453],\n",
              "        [1.2251, 1.7311, 1.3639, 1.9528],\n",
              "        [1.0349, 2.5356, 1.9604, 2.3402]])"
            ]
          },
          "metadata": {
            "tags": []
          },
          "execution_count": 24
        }
      ]
    },
    {
      "cell_type": "code",
      "metadata": {
        "id": "KjWPrkr1kMnc",
        "colab_type": "code",
        "outputId": "ebbd49b2-720d-4354-f59a-cc07b334488a",
        "colab": {
          "base_uri": "https://localhost:8080/",
          "height": 89
        }
      },
      "source": [
        "# Example 2 - working\n",
        "t = torch.randn(4,5)\n",
        "torch.exp(t)"
      ],
      "execution_count": 0,
      "outputs": [
        {
          "output_type": "execute_result",
          "data": {
            "text/plain": [
              "tensor([[ 1.6652,  1.9396,  1.9922,  0.7699,  4.2354],\n",
              "        [ 0.4029,  1.1843,  0.6758,  0.1736,  0.1198],\n",
              "        [ 0.8525,  1.8410,  0.8260,  0.8440, 20.8023],\n",
              "        [ 0.4721, 11.4348,  1.0345,  0.7777,  0.4395]])"
            ]
          },
          "metadata": {
            "tags": []
          },
          "execution_count": 25
        }
      ]
    },
    {
      "cell_type": "code",
      "metadata": {
        "id": "xxsuONfZkMng",
        "colab_type": "code",
        "outputId": "72cefc14-7b04-45c4-a849-bea291d5818b",
        "colab": {
          "base_uri": "https://localhost:8080/",
          "height": 208
        }
      },
      "source": [
        "# Example 3 - breaking (to illustrate when it breaks)\n",
        "t = torch.tensor([9,8])\n",
        "torch.exp(t)"
      ],
      "execution_count": 0,
      "outputs": [
        {
          "output_type": "error",
          "ename": "RuntimeError",
          "evalue": "ignored",
          "traceback": [
            "\u001b[0;31m---------------------------------------------------------------------------\u001b[0m",
            "\u001b[0;31mRuntimeError\u001b[0m                              Traceback (most recent call last)",
            "\u001b[0;32m<ipython-input-26-95491236163c>\u001b[0m in \u001b[0;36m<module>\u001b[0;34m()\u001b[0m\n\u001b[1;32m      1\u001b[0m \u001b[0;31m# Example 3 - breaking (to illustrate when it breaks)\u001b[0m\u001b[0;34m\u001b[0m\u001b[0;34m\u001b[0m\u001b[0;34m\u001b[0m\u001b[0m\n\u001b[1;32m      2\u001b[0m \u001b[0mt\u001b[0m \u001b[0;34m=\u001b[0m \u001b[0mtorch\u001b[0m\u001b[0;34m.\u001b[0m\u001b[0mtensor\u001b[0m\u001b[0;34m(\u001b[0m\u001b[0;34m[\u001b[0m\u001b[0;36m9\u001b[0m\u001b[0;34m,\u001b[0m\u001b[0;36m8\u001b[0m\u001b[0;34m]\u001b[0m\u001b[0;34m)\u001b[0m\u001b[0;34m\u001b[0m\u001b[0;34m\u001b[0m\u001b[0m\n\u001b[0;32m----> 3\u001b[0;31m \u001b[0mtorch\u001b[0m\u001b[0;34m.\u001b[0m\u001b[0mexp\u001b[0m\u001b[0;34m(\u001b[0m\u001b[0mt\u001b[0m\u001b[0;34m)\u001b[0m\u001b[0;34m\u001b[0m\u001b[0;34m\u001b[0m\u001b[0m\n\u001b[0m",
            "\u001b[0;31mRuntimeError\u001b[0m: exp_vml_cpu not implemented for 'Long'"
          ]
        }
      ]
    },
    {
      "cell_type": "markdown",
      "metadata": {
        "id": "Ne4TgjLOkMni",
        "colab_type": "text"
      },
      "source": [
        "the exp function doesn't work properly with the long data type"
      ]
    },
    {
      "cell_type": "markdown",
      "metadata": {
        "id": "uDRXC_6vkMnj",
        "colab_type": "text"
      },
      "source": [
        "## Function 5 - torch.reshape\n",
        "\n",
        "This function is used to reshape any given tensor."
      ]
    },
    {
      "cell_type": "code",
      "metadata": {
        "id": "a2JSOFZZkMnj",
        "colab_type": "code",
        "outputId": "f689b03a-3f02-4721-8f9a-bdd89eb50a6e",
        "colab": {
          "base_uri": "https://localhost:8080/",
          "height": 89
        }
      },
      "source": [
        "# Example 1 - working\n",
        "t = torch.randn((5,5))\n",
        "torch.reshape(t,(1, 25))"
      ],
      "execution_count": 0,
      "outputs": [
        {
          "output_type": "execute_result",
          "data": {
            "text/plain": [
              "tensor([[-0.0572, -0.1196,  0.1221,  0.9894,  0.7399, -0.0160,  0.3031,  2.2812,\n",
              "         -0.4147, -0.0584,  0.2419,  0.0719, -1.1091, -0.3548,  0.2199, -1.1813,\n",
              "         -0.9990,  0.0940, -0.9098, -0.5352,  0.6984,  0.4260,  0.9967, -0.9529,\n",
              "         -0.3942]])"
            ]
          },
          "metadata": {
            "tags": []
          },
          "execution_count": 29
        }
      ]
    },
    {
      "cell_type": "markdown",
      "metadata": {
        "id": "CvY1ZiO9kMnl",
        "colab_type": "text"
      },
      "source": [
        "it takes two arguments, the input tensor and the shape that we want as an output"
      ]
    },
    {
      "cell_type": "code",
      "metadata": {
        "id": "w7GhpftfkMnm",
        "colab_type": "code",
        "outputId": "d046dd93-f4d8-4639-abf8-86a74ff6e24d",
        "colab": {
          "base_uri": "https://localhost:8080/",
          "height": 35
        }
      },
      "source": [
        "# Example 2 - working\n",
        "t = torch.rand((2, 4))\n",
        "torch.reshape(t, (1, 8))"
      ],
      "execution_count": 0,
      "outputs": [
        {
          "output_type": "execute_result",
          "data": {
            "text/plain": [
              "tensor([[0.4822, 0.4796, 0.4893, 0.9301, 0.6394, 0.1383, 0.0790, 0.6524]])"
            ]
          },
          "metadata": {
            "tags": []
          },
          "execution_count": 31
        }
      ]
    },
    {
      "cell_type": "markdown",
      "metadata": {
        "id": "mIwp7dnjkMno",
        "colab_type": "text"
      },
      "source": [
        "Explanation about example"
      ]
    },
    {
      "cell_type": "code",
      "metadata": {
        "id": "-4FtCDBtkMno",
        "colab_type": "code",
        "outputId": "a8159cb2-8c31-4d87-91cb-1611f3838a4e",
        "colab": {
          "base_uri": "https://localhost:8080/",
          "height": 208
        }
      },
      "source": [
        "# Example 3 - breaking (to illustrate when it breaks)\n",
        "t = torch.rand((2, 3))\n",
        "torch.reshape(t,(2,5))"
      ],
      "execution_count": 0,
      "outputs": [
        {
          "output_type": "error",
          "ename": "RuntimeError",
          "evalue": "ignored",
          "traceback": [
            "\u001b[0;31m---------------------------------------------------------------------------\u001b[0m",
            "\u001b[0;31mRuntimeError\u001b[0m                              Traceback (most recent call last)",
            "\u001b[0;32m<ipython-input-33-81a1a37c0e86>\u001b[0m in \u001b[0;36m<module>\u001b[0;34m()\u001b[0m\n\u001b[1;32m      1\u001b[0m \u001b[0;31m# Example 3 - breaking (to illustrate when it breaks)\u001b[0m\u001b[0;34m\u001b[0m\u001b[0;34m\u001b[0m\u001b[0;34m\u001b[0m\u001b[0m\n\u001b[1;32m      2\u001b[0m \u001b[0mt\u001b[0m \u001b[0;34m=\u001b[0m \u001b[0mtorch\u001b[0m\u001b[0;34m.\u001b[0m\u001b[0mrand\u001b[0m\u001b[0;34m(\u001b[0m\u001b[0;34m(\u001b[0m\u001b[0;36m2\u001b[0m\u001b[0;34m,\u001b[0m \u001b[0;36m3\u001b[0m\u001b[0;34m)\u001b[0m\u001b[0;34m)\u001b[0m\u001b[0;34m\u001b[0m\u001b[0;34m\u001b[0m\u001b[0m\n\u001b[0;32m----> 3\u001b[0;31m \u001b[0mtorch\u001b[0m\u001b[0;34m.\u001b[0m\u001b[0mreshape\u001b[0m\u001b[0;34m(\u001b[0m\u001b[0mt\u001b[0m\u001b[0;34m,\u001b[0m\u001b[0;34m(\u001b[0m\u001b[0;36m2\u001b[0m\u001b[0;34m,\u001b[0m\u001b[0;36m5\u001b[0m\u001b[0;34m)\u001b[0m\u001b[0;34m)\u001b[0m\u001b[0;34m\u001b[0m\u001b[0;34m\u001b[0m\u001b[0m\n\u001b[0m",
            "\u001b[0;31mRuntimeError\u001b[0m: shape '[2, 5]' is invalid for input of size 6"
          ]
        }
      ]
    },
    {
      "cell_type": "markdown",
      "metadata": {
        "id": "IakUOEvmkMnq",
        "colab_type": "text"
      },
      "source": [
        "The number of elements in the newly shaped tensor has to be equal to the elements in the input tensor"
      ]
    },
    {
      "cell_type": "markdown",
      "metadata": {
        "id": "9Bnmp5YhkMnr",
        "colab_type": "text"
      },
      "source": [
        "## Conclusion\n",
        "\n",
        "Summarize what was covered in this notebook, and where to go next"
      ]
    },
    {
      "cell_type": "markdown",
      "metadata": {
        "id": "tFXL4zzekMns",
        "colab_type": "text"
      },
      "source": [
        "## Reference Links\n",
        "Provide links to your references and other interesting articles about tensors\n",
        "* Official documentation for `torch.Tensor`: https://pytorch.org/docs/stable/tensors.html\n",
        "* https://pytorch.org/docs/stable/torch.html"
      ]
    },
    {
      "cell_type": "code",
      "metadata": {
        "id": "iXGM6p8LkMns",
        "colab_type": "code",
        "colab": {}
      },
      "source": [
        "!pip install jovian --upgrade --quiet"
      ],
      "execution_count": 0,
      "outputs": []
    },
    {
      "cell_type": "code",
      "metadata": {
        "id": "PHpuJp5ikMnu",
        "colab_type": "code",
        "colab": {}
      },
      "source": [
        "import jovian"
      ],
      "execution_count": 0,
      "outputs": []
    },
    {
      "cell_type": "code",
      "metadata": {
        "id": "cmdU22fCkMnw",
        "colab_type": "code",
        "outputId": "45cdfc7e-08fd-41f9-bdfb-5cce6a7900de",
        "colab": {}
      },
      "source": [
        "jovian.commit()"
      ],
      "execution_count": 0,
      "outputs": [
        {
          "output_type": "display_data",
          "data": {
            "application/javascript": [
              "window.require && require([\"base/js/namespace\"],function(Jupyter){Jupyter.notebook.save_checkpoint()})"
            ],
            "text/plain": [
              "<IPython.core.display.Javascript object>"
            ]
          },
          "metadata": {
            "tags": []
          }
        },
        {
          "output_type": "stream",
          "text": [
            "[jovian] Attempting to save notebook..\u001b[0m\n"
          ],
          "name": "stdout"
        }
      ]
    },
    {
      "cell_type": "code",
      "metadata": {
        "id": "fXgDAK41kMnz",
        "colab_type": "code",
        "colab": {}
      },
      "source": [
        ""
      ],
      "execution_count": 0,
      "outputs": []
    }
  ]
}